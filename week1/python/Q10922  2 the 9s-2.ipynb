{
 "cells": [
  {
   "cell_type": "code",
   "execution_count": 4,
   "metadata": {
    "scrolled": true
   },
   "outputs": [
    {
     "name": "stdout",
     "output_type": "stream",
     "text": [
      "99999999999999999999\n",
      "99999999999999999999 is a multiple of 9 and has 9-degree 2.\n",
      "9\n",
      "9 is a multiple of 9 and has 9-degree 1.\n",
      "8\n",
      "8 is not a multiple of 9.\n",
      "1\n",
      "1 is not a multiple of 9.\n",
      "2\n",
      "2 is not a multiple of 9.\n",
      "99\n",
      "99 is a multiple of 9 and has 9-degree 2.\n",
      "999\n",
      "999 is a multiple of 9 and has 9-degree 2.\n",
      "99999\n",
      "99999 is a multiple of 9 and has 9-degree 2.\n",
      "999999999999999999999999999999999999999999999999999999999999999999999999999999999999999999999999999999999999999999999999999999999999\n",
      "999999999999999999999999999999999999999999999999999999999999999999999999999999999999999999999999999999999999999999999999999999999999 is a multiple of 9 and has 9-degree 3.\n",
      "0\n"
     ]
    }
   ],
   "source": [
    "while(True):\n",
    "    num=input()\n",
    "    if num[0] == '0':break\n",
    "    countNum=0\n",
    "    sum=[0]*10\n",
    "    tmp=num\n",
    "    isFind=False\n",
    "    while(True):\n",
    "        for i in tmp:\n",
    "            sum[countNum] += int(i)\n",
    "        if sum[countNum]==9:\n",
    "            isFind=True\n",
    "        tmp=str(sum[countNum])\n",
    "        if(isFind or sum[countNum]<=9):break\n",
    "        countNum+=1\n",
    "    if(isFind):\n",
    "        print(num+\" is a multiple of 9 and has 9-degree \"+str(countNum+1)+\".\")\n",
    "    else:\n",
    "        print(num+\" is not a multiple of 9.\")"
   ]
  },
  {
   "cell_type": "code",
   "execution_count": null,
   "metadata": {},
   "outputs": [],
   "source": [
    "printf(sum)"
   ]
  }
 ],
 "metadata": {
  "kernelspec": {
   "display_name": "Python 3",
   "language": "python",
   "name": "python3"
  },
  "language_info": {
   "codemirror_mode": {
    "name": "ipython",
    "version": 3
   },
   "file_extension": ".py",
   "mimetype": "text/x-python",
   "name": "python",
   "nbconvert_exporter": "python",
   "pygments_lexer": "ipython3",
   "version": "3.6.5"
  }
 },
 "nbformat": 4,
 "nbformat_minor": 2
}
