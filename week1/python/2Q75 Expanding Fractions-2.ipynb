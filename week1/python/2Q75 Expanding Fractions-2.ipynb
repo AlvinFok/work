{
 "cells": [
  {
   "cell_type": "code",
   "execution_count": 10,
   "metadata": {},
   "outputs": [
    {
     "name": "stdout",
     "output_type": "stream",
     "text": [
      "3 7\n",
      ".428571\n",
      "The last 6 digits repeat forever.\n",
      "00 0\n"
     ]
    }
   ],
   "source": [
    "while(True):\n",
    "    n,m=map(int,input().split())\n",
    "    if(n==0 and m==0):break\n",
    "    store=[-1]*2000\n",
    "    output=\".\"\n",
    "    store[n]=0\n",
    "    while(n):\n",
    "        n*=10;\n",
    "        output+=str(int(n/m))\n",
    "        n%=m\n",
    "        if(store[n%m] != -1):break\n",
    "        store[n] = len(output)-1\n",
    "        \n",
    "    for i in range(len(output)):\n",
    "        if(i!=0 and (i%50==0)):print()\n",
    "        print(output[i],end=\"\")\n",
    "            \n",
    "    if(n):\n",
    "        print('\\n'+\"The last \" + str(len(output)-store[n%m]-1) + \" digits repeat forever.\")\n",
    "    else:\n",
    "        print('\\nThis expansion terminates.')\n",
    "    print()"
   ]
  }
 ],
 "metadata": {
  "kernelspec": {
   "display_name": "Python 3",
   "language": "python",
   "name": "python3"
  },
  "language_info": {
   "codemirror_mode": {
    "name": "ipython",
    "version": 3
   },
   "file_extension": ".py",
   "mimetype": "text/x-python",
   "name": "python",
   "nbconvert_exporter": "python",
   "pygments_lexer": "ipython3",
   "version": "3.6.5"
  }
 },
 "nbformat": 4,
 "nbformat_minor": 2
}
