{
 "cells": [
  {
   "cell_type": "code",
   "execution_count": 2,
   "metadata": {},
   "outputs": [
    {
     "name": "stdout",
     "output_type": "stream",
     "text": [
      "57878377\n",
      "Original number was 57878377\n",
      "88777753 - 35777788 = 52999965\n",
      "99996552 - 25569999 = 74426553\n",
      "76554432 - 23445567 = 53108865\n",
      "88655310 - 1355688 = 87299622\n",
      "99876222 - 22267899 = 77608323\n",
      "87763320 - 2336778 = 85426542\n",
      "86554422 - 22445568 = 64108854\n",
      "88654410 - 1445688 = 87208722\n",
      "88772220 - 2227788 = 86544432\n",
      "86544432 - 23444568 = 63099864\n",
      "99866430 - 3466899 = 96399531\n",
      "99965331 - 13356999 = 86608332\n",
      "88663320 - 2336688 = 86326632\n",
      "86663322 - 22336668 = 64326654\n",
      "66654432 - 23445666 = 43208766\n",
      "87664320 - 2346678 = 85317642\n",
      "87654321 - 12345678 = 75308643\n",
      "87654330 - 3345678 = 84308652\n",
      "88654320 - 2345688 = 86308632\n",
      "88663320 - 2336688 = 86326632\n",
      "Chain length 20\n",
      "\n",
      "0\n"
     ]
    }
   ],
   "source": [
    "while(True):\n",
    "    numStore=list()\n",
    "    numInput=input()\n",
    "    if(numInput=='0'):break\n",
    "    isFind=False\n",
    "    print(\"Original number was \" + str(numInput))\n",
    "    storeTimes = 0\n",
    "    while(not isFind):\n",
    "        numInput = ''.join(sorted(numInput))\n",
    "        lowerNum = int(numInput)\n",
    "        upperNum = int(''.join(sorted(numInput,reverse=True)))\n",
    "        numStore.append(str(upperNum - lowerNum))\n",
    "        for i in range(storeTimes):\n",
    "            for j in range(storeTimes):\n",
    "                if(i==j):continue\n",
    "                if(numStore[i]==numStore[j]):isFind = True\n",
    "        if(isFind):break\n",
    "        print(str(upperNum)+ \" - \" + str(lowerNum) + \" = \" + numStore[storeTimes])\n",
    "        numInput = numStore[storeTimes]\n",
    "        storeTimes+=1\n",
    "    print(\"Chain length \" + str(storeTimes)+'\\n')"
   ]
  }
 ],
 "metadata": {
  "kernelspec": {
   "display_name": "Python 3",
   "language": "python",
   "name": "python3"
  },
  "language_info": {
   "codemirror_mode": {
    "name": "ipython",
    "version": 3
   },
   "file_extension": ".py",
   "mimetype": "text/x-python",
   "name": "python",
   "nbconvert_exporter": "python",
   "pygments_lexer": "ipython3",
   "version": "3.6.5"
  }
 },
 "nbformat": 4,
 "nbformat_minor": 2
}
